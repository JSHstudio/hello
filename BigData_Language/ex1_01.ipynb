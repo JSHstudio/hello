{
 "cells": [
  {
   "cell_type": "code",
   "execution_count": 10,
   "metadata": {},
   "outputs": [
    {
     "name": "stdout",
     "output_type": "stream",
     "text": [
      "[2, 3, 5, 7, 11, 13, 17, 19, 23, 29, 31, 37, 41, 43, 47]\n"
     ]
    }
   ],
   "source": [
    "def get_prime_number_v01(begin, end):\n",
    "    prime_number_list = []\n",
    "    \n",
    "    for i in range(begin, end):\n",
    "        is_prime_number = True\n",
    "        for j in range(2, i):\n",
    "            if (i % j) == 0:\n",
    "                is_prime_number = False\n",
    "                break\n",
    "        if is_prime_number and i > 1:\n",
    "            prime_number_list.append(i)\n",
    "    \n",
    "    return prime_number_list\n",
    "\n",
    "print(get_prime_number_v01(1,50))"
   ]
  },
  {
   "cell_type": "code",
   "execution_count": 11,
   "metadata": {},
   "outputs": [
    {
     "name": "stdout",
     "output_type": "stream",
     "text": [
      "[2, 3, 5, 7, 11, 13, 17, 19, 23, 29, 31, 37, 41, 43, 47]\n"
     ]
    }
   ],
   "source": [
    "def get_prime_number_v02(begin, end):\n",
    "    prime_number_list = []\n",
    "    \n",
    "    for i in range(begin, end):\n",
    "        for j in range(2, i):\n",
    "            if (i % j) == 0:\n",
    "                break\n",
    "        else:\n",
    "            if i > 1:\n",
    "                prime_number_list.append(i)\n",
    "    \n",
    "    return prime_number_list\n",
    "\n",
    "print(get_prime_number_v02(1,50))"
   ]
  },
  {
   "cell_type": "code",
   "execution_count": 12,
   "metadata": {},
   "outputs": [
    {
     "name": "stdout",
     "output_type": "stream",
     "text": [
      "begin: 1\n",
      "end: 40\n",
      "[2, 3, 5, 7, 11, 13, 17, 19, 23, 29, 31, 37]\n",
      "[2, 3, 5, 7, 11, 13, 17, 19, 23, 29, 31, 37]\n"
     ]
    }
   ],
   "source": [
    "begin = int(input(\"begin: \"))\n",
    "end = int(input(\"end: \"))\n",
    "\n",
    "print(get_prime_number_v01(begin, end))\n",
    "print(get_prime_number_v02(begin, end))"
   ]
  }
 ],
 "metadata": {
  "kernelspec": {
   "display_name": "Python 3",
   "language": "python",
   "name": "python3"
  },
  "language_info": {
   "codemirror_mode": {
    "name": "ipython",
    "version": 3
   },
   "file_extension": ".py",
   "mimetype": "text/x-python",
   "name": "python",
   "nbconvert_exporter": "python",
   "pygments_lexer": "ipython3",
   "version": "3.7.1"
  }
 },
 "nbformat": 4,
 "nbformat_minor": 2
}
