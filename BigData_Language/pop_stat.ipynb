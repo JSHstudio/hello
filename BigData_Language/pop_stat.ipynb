{
 "cells": [
  {
   "cell_type": "code",
   "execution_count": 2,
   "metadata": {},
   "outputs": [
    {
     "name": "stdout",
     "output_type": "stream",
     "text": [
      "[Data Loaded]: (463916, 3) \n",
      "\n"
     ]
    },
    {
     "data": {
      "text/plain": [
       "array([[ 1,  0,  1],\n",
       "       [ 1,  0,  1],\n",
       "       [ 1,  0,  1],\n",
       "       ...,\n",
       "       [ 2, 85,  6],\n",
       "       [ 2, 85,  7],\n",
       "       [ 2, 85,  7]], dtype=int64)"
      ]
     },
     "execution_count": 2,
     "metadata": {},
     "output_type": "execute_result"
    }
   ],
   "source": [
    "import numpy as np\n",
    "\n",
    "# 0. NumPy.loadtxt()함수로 적재\n",
    "data_arr = np.loadtxt(\"population.csv\", delimiter=\",\", dtype=np.int64)\n",
    "print(\"[Data Loaded]:\", data_arr.shape, '\\n')\n",
    "data_arr"
   ]
  },
  {
   "cell_type": "code",
   "execution_count": 3,
   "metadata": {},
   "outputs": [
    {
     "name": "stdout",
     "output_type": "stream",
     "text": [
      "\t\t남성\t여성\n",
      "10대이하\t0.51\t0.49\n",
      "10대\t\t0.51\t0.49\n",
      "20대\t\t0.49\t0.51\n",
      "30대\t\t0.50\t0.50\n",
      "40대\t\t0.50\t0.50\n",
      "50대\t\t0.49\t0.51\n",
      "60대이상\t0.44\t0.56\n",
      "Wall time: 81.8 ms\n"
     ]
    }
   ],
   "source": [
    "%%time\n",
    "# Main.1: 연령대별 성비 분석 프로그램\n",
    "\n",
    "# 1. Lookup Table (배열) 생성\n",
    "lookup_arr_age = np.array([10, 20, 30, 40, 50, 60, 200])\n",
    "\n",
    "# 2. 연령대별 성비 결과 테이블 생성\n",
    "print(\"\\t\\t남성\\t여성\") # 컬럼 타이틀 출력\n",
    "row_title_list = [\"10대이하\", \"10대\\t\", \"20대\\t\", \"30대\\t\", \"40대\\t\", \"50대\\t\", \"60대이상\"] # Row 타이틀\n",
    "begin_age = 0\n",
    "for i, end_age in enumerate(lookup_arr_age):   \n",
    "    data_arr_ages = data_arr[(data_arr[:,1] >= begin_age) & (data_arr[:,1] < end_age)] # 연령대 슬라이싱\n",
    "    male_ratio = len(data_arr_ages[data_arr_ages[:,0] == 1]) / len(data_arr_ages) # len(남성 슬라이싱) / len(연령대 슬라이싱)\n",
    "    female_ratio = len(data_arr_ages[data_arr_ages[:,0] == 2]) / len(data_arr_ages) # len(여성 슬라이싱) / len(연령대 슬라이싱)\n",
    "    print(row_title_list[i] + \"\\t{0:0.2f}\\t{1:0.2f}\".format(male_ratio, female_ratio))   \n",
    "    begin_age = end_age # 다음 연령대의 시작 연령 업데이트"
   ]
  },
  {
   "cell_type": "code",
   "execution_count": 5,
   "metadata": {},
   "outputs": [
    {
     "name": "stdout",
     "output_type": "stream",
     "text": [
      "\t\t남성\t여성\t전체\n",
      "20대\t\t0.82\t0.84\t0.83\n",
      "30대\t\t0.75\t0.72\t0.74\n",
      "40대\t\t0.55\t0.45\t0.50\n",
      "50대\t\t0.36\t0.21\t0.28\n",
      "60대이상\t0.18\t0.05\t0.11\n",
      "Wall time: 67.9 ms\n"
     ]
    }
   ],
   "source": [
    "%%time\n",
    "#%%timeit\n",
    "# Main.2: 연령대별/성별 대학진학률 분석 프로그램\n",
    "\n",
    "# 1. Lookup Table (배열) 생성\n",
    "lookup_arr_age = np.array([30, 40, 50, 60, 200])\n",
    "\n",
    "# 2. 연령대별 성비 결과 테이블 생성\n",
    "print(\"\\t\\t남성\\t여성\\t전체\") # 컬럼 타이틀 출력\n",
    "row_title_list = [\"20대\\t\", \"30대\\t\", \"40대\\t\", \"50대\\t\", \"60대이상\"] # Row 타이틀\n",
    "begin_age = 20\n",
    "for i, end_age in enumerate(lookup_arr_age):   \n",
    "    data_arr_ages = data_arr[(data_arr[:,1] >= begin_age) & (data_arr[:,1] < end_age)] # 연령대 슬라이싱\n",
    "    data_arr_ages_univ = data_arr_ages[data_arr_ages[:,2] >= 5]  # 연령대_대학진학 슬라이싱 \n",
    "    \n",
    "    # man_univ_ratio = len(연령대_대학진학_남성 슬라이싱) / len(연령대_남성 슬라이싱)\n",
    "    male_univ_ratio = len(data_arr_ages_univ[data_arr_ages_univ[:,0] == 1]) / len(data_arr_ages[data_arr_ages[:,0] == 1]) \n",
    "    \n",
    "    # woman_univ_ratio = len(연령대_대학진학_여성 슬라이싱) / len(연령대_여성 슬라이싱)\n",
    "    female_univ_ratio = len(data_arr_ages_univ[data_arr_ages_univ[:,0] == 2]) / len(data_arr_ages[data_arr_ages[:,0] == 2]) \n",
    "\n",
    "    # ages_univ_ratio = len(연령대_대학진학 슬라이싱) / len(연령대_슬라이싱)\n",
    "    ages_univ_ratio = len(data_arr_ages_univ) / len(data_arr_ages) \n",
    "    \n",
    "    print(row_title_list[i] + \"\\t{0:0.2f}\\t{1:0.2f}\\t{2:0.2f}\".format(male_univ_ratio, female_univ_ratio, ages_univ_ratio))  \n",
    "    begin_age = end_age # 다음 연령대의 시작 연령 업데이트"
   ]
  },
  {
   "cell_type": "code",
   "execution_count": null,
   "metadata": {},
   "outputs": [],
   "source": []
  }
 ],
 "metadata": {
  "kernelspec": {
   "display_name": "Python 3",
   "language": "python",
   "name": "python3"
  },
  "language_info": {
   "codemirror_mode": {
    "name": "ipython",
    "version": 3
   },
   "file_extension": ".py",
   "mimetype": "text/x-python",
   "name": "python",
   "nbconvert_exporter": "python",
   "pygments_lexer": "ipython3",
   "version": "3.7.1"
  }
 },
 "nbformat": 4,
 "nbformat_minor": 2
}
