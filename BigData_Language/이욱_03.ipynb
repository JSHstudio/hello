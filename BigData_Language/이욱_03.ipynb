{
 "cells": [
  {
   "cell_type": "code",
   "execution_count": 1,
   "metadata": {},
   "outputs": [],
   "source": [
    "import numpy as np"
   ]
  },
  {
   "cell_type": "code",
   "execution_count": 2,
   "metadata": {},
   "outputs": [
    {
     "data": {
      "text/plain": [
       "array([['G1', '1', '100', '5', '0'],\n",
       "       ['G1', '1', '21', '538', '0'],\n",
       "       ['G1', '1', '22', '6000', '0'],\n",
       "       ...,\n",
       "       ['G2', '8', '61', '241908', '8800'],\n",
       "       ['G2', '8', '70', '57341', '16800'],\n",
       "       ['G2', '9', '51', '1340', '0']], dtype='<U7')"
      ]
     },
     "execution_count": 2,
     "metadata": {},
     "output_type": "execute_result"
    }
   ],
   "source": [
    "asset = np.loadtxt(\"asset.csv\", dtype = np.str, delimiter=',')\n",
    "asset"
   ]
  },
  {
   "cell_type": "markdown",
   "metadata": {},
   "source": [
    "#문제1"
   ]
  },
  {
   "cell_type": "code",
   "execution_count": 3,
   "metadata": {},
   "outputs": [],
   "source": [
    "asset_G1 = asset[asset[:, 0] == \"G1\"]#먼저 수도권에 있는 데이터를 추출함\n",
    "asset_G1_int = asset_G1[:, 1:].astype(np.int32)#슬라이싱해서 데이터를 바꿈 그래야 계산하기 수월\n",
    "asset_G2 = asset[asset[:, 0] == \"G2\"]#비수도권 데이터 추출\n",
    "asset_G2_int = asset_G2[:, 1:].astype(np.int32)#슬라이싱해서 데이터 바꿈"
   ]
  },
  {
   "cell_type": "code",
   "execution_count": 4,
   "metadata": {},
   "outputs": [
    {
     "name": "stdout",
     "output_type": "stream",
     "text": [
      "\t\t1인 가구\t 2인 가구\t 3인 가구\t 4인 가구\t 5인 가구이상\t\n",
      "수도권            17491           44449           49661           53632           60370 \n",
      "비수도권          10990           30803           32054           37865           37447 Wall time: 12 ms\n"
     ]
    }
   ],
   "source": [
    "%%time\n",
    "print(\"\\t\\t1인 가구\\t\", \"2인 가구\\t\", \"3인 가구\\t\", \"4인 가구\\t\", \"5인 가구이상\\t\")\n",
    "print(\"수도권  \", end = \"\")\n",
    "lookup_table = [1, 2, 3, 4, 5]\n",
    "for i in lookup_table:\n",
    "    index1 = np.where(asset_G1_int[:, 0] == i)#일반 슬라이싱을 할 경우에는 속도차이가 나므로 np.where을 쓰므로서 메모리주소에 바로 다가갈수있게끔 로직설계\n",
    "    asset_G1_mean = (asset_G1_int[index1][:, 2] - asset_G1_int[index1][:, 3]).mean()\n",
    "    if i == 5:#5인가구 이상일 경우에는 부등호로 설정하기 위해서 로직설계\n",
    "        index1 = np.where(asset_G1_int[:, 0] >= i)\n",
    "        asset_G1_mean = (asset_G1_int[index1][:, 2] - asset_G1_int[index1][:, 3]).mean()#numpy 연산을 활용해서 평균 계산\n",
    "    print(\"{:>15.0f}\".format(asset_G1_mean), end = \" \")#소수점 버림\n",
    "print()#칸수 일부러 맞추기 위해서\n",
    "print(\"비수도권\", end =\"\")\n",
    "for i in lookup_table:#로직은 위와 동일\n",
    "    index2 = np.where(asset_G2_int[:, 0] == i)\n",
    "    asset_G2_mean = (asset_G2_int[index2][:, 2] - asset_G2_int[index2][:, 3]).mean()\n",
    "    if i == 5:\n",
    "        index2 = np.where(asset_G2_int[:, 0] >= i)\n",
    "        asset_G2_mean = (asset_G2_int[index2][:, 2] - asset_G2_int[index2][:, 3]).mean()\n",
    "    print(\"{:>15.0f}\".format(asset_G2_mean), end = \" \")"
   ]
  },
  {
   "cell_type": "markdown",
   "metadata": {},
   "source": [
    "#문제2"
   ]
  },
  {
   "cell_type": "code",
   "execution_count": 5,
   "metadata": {},
   "outputs": [
    {
     "data": {
      "text/plain": [
       "array([[     1,    100,      5,      0],\n",
       "       [     1,     21,    538,      0],\n",
       "       [     1,     22,   6000,      0],\n",
       "       ...,\n",
       "       [     8,     61, 241908,   8800],\n",
       "       [     8,     70,  57341,  16800],\n",
       "       [     9,     51,   1340,      0]])"
      ]
     },
     "execution_count": 5,
     "metadata": {},
     "output_type": "execute_result"
    }
   ],
   "source": [
    "asset_int = asset[:, 1:].astype(np.int32)#수도권 비수도권 구별할 필요 없어서 아예 슬라이싱한 후 데이터 변환\n",
    "asset_int"
   ]
  },
  {
   "cell_type": "code",
   "execution_count": 6,
   "metadata": {},
   "outputs": [
    {
     "name": "stdout",
     "output_type": "stream",
     "text": [
      "\t\t1인 가구\t 2인 가구\t 3인 가구\t 4인 가구\t 5인 가구이상\t\n",
      "20대\t            4754           11468           11950            7926           14552\n",
      "30대\t            8488           18861           24389           27595           27376\n",
      "40대\t           15866           21337           33170           40676           40685\n",
      "50대\t           11917           29255           43535           52297           52902\n",
      "60대이상           14222           40955           48717           60094           62211\n",
      "Wall time: 18 ms\n"
     ]
    }
   ],
   "source": [
    "%%time\n",
    "print(\"\\t\\t1인 가구\\t\", \"2인 가구\\t\", \"3인 가구\\t\", \"4인 가구\\t\", \"5인 가구이상\\t\")\n",
    "row_title_list = [\"20대\\t\", \"30대\\t\", \"40대\\t\", \"50대\\t\", \"60대이상\"]\n",
    "lookup_table_age = np.array([20, 30, 40, 50, 60])#lookup_table을 만들어서 계산\n",
    "for i, age in enumerate(lookup_table_age):#인덱싱값과 배열의 값을 따로 뽑기 위해 enumerate함수 사용\n",
    "    index = np.where((asset_int[:, 1]>= age) & (asset_int[:, 1] < age + 10))#나이때에 따라서 확인 np.where을 쓴 이유는 속도줄이기 위해\n",
    "    asset_age = asset_int[index]\n",
    "    print(row_title_list[i], end = \"\")#표 만들기 위해서 인덱싱값 활용\n",
    "    if age == 60:#60세일때 슬라이싱 부등호 바꿔줌\n",
    "        index = np.where(asset_int[:, 1] >= age)\n",
    "        asset_age = asset_int[index]\n",
    "    for j in lookup_table:#look_up_table생성해서 배열 시작\n",
    "        index = np.where(asset_age[:, 0] == j)\n",
    "        asset_mean = (asset_age[index][:, 2] - asset_age[index][:, 3]).mean()\n",
    "        if j == 5:\n",
    "            index = np.where(asset_age[:, 0] >= j)\n",
    "            asset_mean = (asset_age[index][:, 2] - asset_age[index][:, 3]).mean()\n",
    "        print(\"{:>16.0f}\".format(asset_mean), end = \"\")\n",
    "    print()"
   ]
  },
  {
   "cell_type": "code",
   "execution_count": null,
   "metadata": {},
   "outputs": [],
   "source": []
  }
 ],
 "metadata": {
  "kernelspec": {
   "display_name": "Python 3",
   "language": "python",
   "name": "python3"
  },
  "language_info": {
   "codemirror_mode": {
    "name": "ipython",
    "version": 3
   },
   "file_extension": ".py",
   "mimetype": "text/x-python",
   "name": "python",
   "nbconvert_exporter": "python",
   "pygments_lexer": "ipython3",
   "version": "3.7.1"
  }
 },
 "nbformat": 4,
 "nbformat_minor": 2
}
