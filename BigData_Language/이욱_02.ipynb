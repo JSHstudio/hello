{
 "cells": [
  {
   "cell_type": "code",
   "execution_count": 2,
   "metadata": {},
   "outputs": [],
   "source": [
    "import numpy as np"
   ]
  },
  {
   "cell_type": "code",
   "execution_count": 3,
   "metadata": {},
   "outputs": [],
   "source": [
    "with open(\"population.csv\") as file:\n",
    "    csv_data = []\n",
    "    for line in file.readlines():\n",
    "        csv_data.append(line.split(\",\"))\n",
    "population = np.array(csv_data, dtype = np.int32)"
   ]
  },
  {
   "cell_type": "markdown",
   "metadata": {},
   "source": [
    "##문제1"
   ]
  },
  {
   "cell_type": "code",
   "execution_count": 4,
   "metadata": {},
   "outputs": [],
   "source": [
    "def child_percent(X):#10대 이하 비율\n",
    "    X = X[X[:, 1] < 10]\n",
    "    man = len(X[X[:, 0] == 1]) / len(X)\n",
    "    woman = len(X[X[:, 0] == 2]) / len(X)\n",
    "    print(\"\\t\\t남성 \\t여성\")\n",
    "    print(\"10대이하  \\t{} \\t{}\".format(round(man, 2), round(woman, 2)))"
   ]
  },
  {
   "cell_type": "code",
   "execution_count": 5,
   "metadata": {},
   "outputs": [],
   "source": [
    "def all_percent(X):#10대부터 50대 비율\n",
    "    for i in range(10, 60, 10):\n",
    "        x = X[(X[:, 1] >= i) & (X[:, 1] < (i + 10))]#다른변수로 할당한 이유 초기화 방지\n",
    "        man = len(x[x[:, 0]  == 1]) / len(x) #전체 데이터에 남자데이터를 나눔\n",
    "        woman = len(x[x[:, 0]  == 2]) / len(x)#전체 데이터에 여자데이터를 나눔\n",
    "        print(\"{}대  \\t\\t{}  \\t{}\".format((i), round(man, 2), round(woman, 2)))"
   ]
  },
  {
   "cell_type": "code",
   "execution_count": 6,
   "metadata": {},
   "outputs": [],
   "source": [
    "def grand_percent(X):#60대이상\n",
    "    X = X[X[:, 1] >= 60]\n",
    "    man = len(X[(X[:, 0] == 1) & (X[:, 1] >= 60)]) / len(X)\n",
    "    woman = len(X[(X[:, 0] == 2) & (X[:, 1] >= 60)]) / len(X)\n",
    "    print(\"60대이상  \\t{} \\t{}\".format(round(man, 2), round(woman, 2)))"
   ]
  },
  {
   "cell_type": "code",
   "execution_count": 7,
   "metadata": {},
   "outputs": [
    {
     "name": "stdout",
     "output_type": "stream",
     "text": [
      "\t\t남성 \t여성\n",
      "10대이하  \t0.51 \t0.49\n",
      "10대  \t\t0.51  \t0.49\n",
      "20대  \t\t0.49  \t0.51\n",
      "30대  \t\t0.5  \t0.5\n",
      "40대  \t\t0.5  \t0.5\n",
      "50대  \t\t0.49  \t0.51\n",
      "60대이상  \t0.44 \t0.56\n",
      "Wall time: 57.8 ms\n"
     ]
    }
   ],
   "source": [
    "%%time\n",
    "child_percent(population)\n",
    "all_percent(population)\n",
    "grand_percent(population)"
   ]
  },
  {
   "cell_type": "markdown",
   "metadata": {},
   "source": [
    "##문제2"
   ]
  },
  {
   "cell_type": "code",
   "execution_count": 8,
   "metadata": {},
   "outputs": [],
   "source": [
    "def all_univercity_percent(X):\n",
    "    print(\"\\t 남성 \\t 여성 \\t 전체\")\n",
    "    for i in range(20, 60, 10):\n",
    "        school = X[(X[:, 1] >= i) & (X[:, 1] < (i + 10))]# 겹치는 나이값을 불린형 인덱싱해서 묶음\n",
    "        univercity = school[school[:, 2] >= 5]#대학 진학한 사람의 수\n",
    "        man_uni = univercity[univercity[:, 0] == 1]# 대학을 진학한 남자의 수\n",
    "        woman_uni = univercity[univercity[:, 0] == 2]# 대학을 진학한 여자의 수\n",
    "        man = school[school[:, 0] == 1]# 남자 전체 \n",
    "        woman = school[school[:, 0] == 2]# 여자 전체\n",
    "        print(\"{}대 \\t {} \\t {} \\t {}\".format(i, round(len(man_uni) / len(man), 2), round(len(woman_uni) / len(woman), 2), round(len(univercity) / len(school),2)))"
   ]
  },
  {
   "cell_type": "code",
   "execution_count": 9,
   "metadata": {},
   "outputs": [],
   "source": [
    "def sixteen_univercity_percent(X):#60대 이상 함수로 만듬 로직은 위와 동일\n",
    "    school = X[X[:, 1] >= 60]\n",
    "    univercity = school[school[:, 2] >= 5]\n",
    "    man_uni = univercity[univercity[:, 0] == 1]\n",
    "    woman_uni = univercity[univercity[:, 0] == 2]\n",
    "    man = school[school[:, 0] == 1]\n",
    "    woman = school[school[:, 0] == 2]\n",
    "    print(\"60대이상 {} \\t {} \\t {}\".format(round(len(man_uni) / len(man), 2), round(len(woman_uni) / len(woman), 2), round(len(univercity) / len(school), 2)))"
   ]
  },
  {
   "cell_type": "code",
   "execution_count": 10,
   "metadata": {},
   "outputs": [
    {
     "name": "stdout",
     "output_type": "stream",
     "text": [
      "\t 남성 \t 여성 \t 전체\n",
      "20대 \t 0.82 \t 0.84 \t 0.83\n",
      "30대 \t 0.75 \t 0.72 \t 0.74\n",
      "40대 \t 0.55 \t 0.45 \t 0.5\n",
      "50대 \t 0.36 \t 0.21 \t 0.28\n",
      "60대이상 0.18 \t 0.05 \t 0.11\n",
      "Wall time: 61.8 ms\n"
     ]
    }
   ],
   "source": [
    "%%time\n",
    "all_univercity_percent(population)\n",
    "sixteen_univercity_percent(population)"
   ]
  },
  {
   "cell_type": "code",
   "execution_count": null,
   "metadata": {},
   "outputs": [],
   "source": []
  }
 ],
 "metadata": {
  "kernelspec": {
   "display_name": "Python 3",
   "language": "python",
   "name": "python3"
  },
  "language_info": {
   "codemirror_mode": {
    "name": "ipython",
    "version": 3
   },
   "file_extension": ".py",
   "mimetype": "text/x-python",
   "name": "python",
   "nbconvert_exporter": "python",
   "pygments_lexer": "ipython3",
   "version": "3.7.1"
  }
 },
 "nbformat": 4,
 "nbformat_minor": 2
}
