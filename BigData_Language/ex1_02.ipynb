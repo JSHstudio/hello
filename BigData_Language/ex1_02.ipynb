{
 "cells": [
  {
   "cell_type": "code",
   "execution_count": 1,
   "metadata": {},
   "outputs": [
    {
     "name": "stdout",
     "output_type": "stream",
     "text": [
      "0.9999999999999999\n"
     ]
    }
   ],
   "source": [
    "def get_corr_coef(data_list):\n",
    "    sum_x = 0.0; sum_y = 0.0\n",
    "    \n",
    "    for data in data_list:\n",
    "        sum_x += data[0]\n",
    "        sum_y += data[1]\n",
    "        \n",
    "    mean_x = sum_x / len(data_list)\n",
    "    mean_y = sum_y / len(data_list)\n",
    "    \n",
    "    cov = 0.0; var_x = 0.0; var_y = 0.0\n",
    "    \n",
    "    for data in data_list:\n",
    "        cov += (data[0]-mean_x) * (data[1]-mean_y)\n",
    "        var_x += (data[0]-mean_x)**2\n",
    "        var_y += (data[1]-mean_y)**2\n",
    "            \n",
    "    return cov / (var_x**0.5 * var_y**0.5)\n",
    "\n",
    "print(get_corr_coef([[1, 100], [2, 200], [3, 300]]))"
   ]
  },
  {
   "cell_type": "code",
   "execution_count": 28,
   "metadata": {},
   "outputs": [
    {
     "name": "stdout",
     "output_type": "stream",
     "text": [
      "[[1, 100], [2, 200], [3, 300]]\n"
     ]
    }
   ],
   "source": [
    "def parse_list(str_x, str_y):\n",
    "    list = []\n",
    "\n",
    "    list_x = str_x.split(',')\n",
    "    list_y = str_y.split(',')\n",
    "    \n",
    "    for i in range(len(list_x)):\n",
    "        list.append([int(list_x[i]), int(list_y[i])])\n",
    " \n",
    "    return list\n",
    "    \n",
    "print(parse_list(\"1,2,3\", \"100,200,300\"))"
   ]
  },
  {
   "cell_type": "code",
   "execution_count": 31,
   "metadata": {},
   "outputs": [
    {
     "name": "stdout",
     "output_type": "stream",
     "text": [
      "str_x: 1,2,3\n",
      "str_y: 100,200,300\n",
      "0.9999999999999999\n"
     ]
    }
   ],
   "source": [
    "str_x = input(\"str_x: \")\n",
    "str_y = input(\"str_y: \")\n",
    "\n",
    "print(get_corr_coef(parse_list(str_x, str_y)))    "
   ]
  }
 ],
 "metadata": {
  "kernelspec": {
   "display_name": "Python 3",
   "language": "python",
   "name": "python3"
  },
  "language_info": {
   "codemirror_mode": {
    "name": "ipython",
    "version": 3
   },
   "file_extension": ".py",
   "mimetype": "text/x-python",
   "name": "python",
   "nbconvert_exporter": "python",
   "pygments_lexer": "ipython3",
   "version": "3.7.1"
  }
 },
 "nbformat": 4,
 "nbformat_minor": 2
}
