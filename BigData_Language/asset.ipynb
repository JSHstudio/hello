{
 "cells": [
  {
   "cell_type": "code",
   "execution_count": 1,
   "metadata": {},
   "outputs": [],
   "source": [
    "import numpy as np\n",
    "data_arr = np.loadtxt(\"asset.csv\", delimiter=\",\", dtype=str )"
   ]
  },
  {
   "cell_type": "code",
   "execution_count": 2,
   "metadata": {},
   "outputs": [],
   "source": [
    "# 코드리스트 및 Lookup Table 생성\n",
    "CAPITAL_CODE = ['G1', 'G2']\n",
    "lookup_arr_family_size = [2, 3, 4, 5, 100]\n",
    "lookup_arr_age = [30, 40, 50, 60, 200]\n",
    "\n",
    "# 출력 Title 생성\n",
    "col_title = \"\\t\\t1인가구\\t\\t2인가구\\t\\t3인가구\\t\\t4인가구\\t\\t5인가구이상\"\n",
    "row_title_capital = [\"수도권\",\"비수도권\"]\n",
    "row_title_age = [\"20대\",\"30대\",\"40대\",\"50대\",\"60대이상\"]"
   ]
  },
  {
   "cell_type": "markdown",
   "metadata": {},
   "source": [
    "## get_slice_mean_arr()\n",
    "Input array에 대해 lookup 테이블을 참조하여 슬라이싱한 후, 각각의 슬라이스의 평균을 구한 후 결과 테이블 리턴\n",
    "#### Parameters:\n",
    "array: 전체 데이터 배열(numpy.array)  \n",
    "base_col_idx: 슬라이싱할 기준 컬럼 인덱스(int)  \n",
    "lookup_arr: lookup 테이블(list)  \n",
    "slice_begin: lookup_arr 기준 슬라이스 시작점, inclusive(int)     "
   ]
  },
  {
   "cell_type": "code",
   "execution_count": 3,
   "metadata": {},
   "outputs": [
    {
     "name": "stdout",
     "output_type": "stream",
     "text": [
      "Wall time: 0 ns\n"
     ]
    }
   ],
   "source": [
    "%%time\n",
    "def get_slice_mean_arr(array, slice_col_idx, lookup_arr, slice_begin, asset_col_idx, debt_col_idx):\n",
    "    result_list = [];\n",
    "    for sliec_end in lookup_arr:\n",
    "        arr_slice = array[(array[:, slice_col_idx] >= slice_begin) & (array[:, slice_col_idx] < sliec_end)]\n",
    "        slice_mean = int(round((arr_slice[:, asset_col_idx] - arr_slice[:, debt_col_idx]).mean()))\n",
    "        result_list.append(slice_mean)\n",
    "        slice_begin += 1\n",
    "    return result_list"
   ]
  },
  {
   "cell_type": "markdown",
   "metadata": {},
   "source": [
    "## Main #1\n",
    "수도권(G1)/비수도권(G2)의 가구원수 별 평균 순자산(자산-부채, 단위: 만원)표"
   ]
  },
  {
   "cell_type": "code",
   "execution_count": 4,
   "metadata": {},
   "outputs": [
    {
     "name": "stdout",
     "output_type": "stream",
     "text": [
      "\t\t1인가구\t\t2인가구\t\t3인가구\t\t4인가구\t\t5인가구이상\n",
      "수도권       \t17491\t\t44449\t\t49661\t\t53632\t\t60370\t\t\n",
      "비수도권      \t10990\t\t30803\t\t32054\t\t37865\t\t37447\t\t\n",
      "Wall time: 84.8 ms\n"
     ]
    }
   ],
   "source": [
    "%%time\n",
    "col_arr_capital = data_arr[:, 0] # 수도권여부 컬럼 배열  \n",
    "\n",
    "print(col_title)\n",
    "\n",
    "for i, code in enumerate(CAPITAL_CODE):\n",
    "    data_arr_capital = data_arr[(col_arr_capital == code)][:, 1:].astype(int)\n",
    "    mean_arr = get_slice_mean_arr(data_arr_capital, 0, lookup_arr_family_size, 1, 2, 3)\n",
    "    print(\"{:10s}\".format(row_title_capital[i]), end=\"\\t\")\n",
    "    for j in range(len(mean_arr)): print(\"{:5d}\".format(mean_arr[j]), end=\"\\t\\t\")\n",
    "    print(\"\")"
   ]
  },
  {
   "cell_type": "markdown",
   "metadata": {},
   "source": [
    "## Main #2\n",
    "가구주 연령별/가구원수별 평균 순자산(자산-부채, 단위: 만원)표"
   ]
  },
  {
   "cell_type": "code",
   "execution_count": 5,
   "metadata": {},
   "outputs": [
    {
     "name": "stdout",
     "output_type": "stream",
     "text": [
      "\t\t1인가구\t\t2인가구\t\t3인가구\t\t4인가구\t\t5인가구이상\n",
      "20대       \t 4754\t\t11468\t\t11950\t\t 7926\t\t14552\t\t\n",
      "30대       \t 8488\t\t18861\t\t24389\t\t27595\t\t27376\t\t\n",
      "40대       \t15866\t\t21337\t\t33170\t\t40676\t\t40685\t\t\n",
      "50대       \t11917\t\t29255\t\t43535\t\t52297\t\t52902\t\t\n",
      "60대이상     \t14222\t\t40955\t\t48717\t\t60094\t\t62211\t\t\n",
      "Wall time: 61.2 ms\n"
     ]
    }
   ],
   "source": [
    "%%time\n",
    "data_arr_part = data_arr[:, 1:].astype(int) # 수도권여부를 제외한 데이터 배열\n",
    "col_arr_age = data_arr_part[:, 1] # 가구주_만나이 컬럼 배열  \n",
    "\n",
    "print(col_title)\n",
    "begin_age = 20    \n",
    "for i, end_age in enumerate(lookup_arr_age):\n",
    "    data_arr_age = data_arr_part[(col_arr_age >= begin_age) & (col_arr_age < end_age)]\n",
    "    mean_arr = get_slice_mean_arr(data_arr_age, 0, lookup_arr_family_size, 1, 2, 3)\n",
    "    print(\"{:10s}\".format(row_title_age[i]), end=\"\\t\")\n",
    "    for j in range(len(mean_arr)): print(\"{:5d}\".format(mean_arr[j]), end=\"\\t\\t\")\n",
    "    print(\"\")\n",
    "    begin_age += 10"
   ]
  },
  {
   "cell_type": "code",
   "execution_count": null,
   "metadata": {},
   "outputs": [],
   "source": []
  }
 ],
 "metadata": {
  "kernelspec": {
   "display_name": "Python 3",
   "language": "python",
   "name": "python3"
  },
  "language_info": {
   "codemirror_mode": {
    "name": "ipython",
    "version": 3
   },
   "file_extension": ".py",
   "mimetype": "text/x-python",
   "name": "python",
   "nbconvert_exporter": "python",
   "pygments_lexer": "ipython3",
   "version": "3.7.1"
  }
 },
 "nbformat": 4,
 "nbformat_minor": 2
}
