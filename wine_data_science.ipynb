{
 "cells": [
  {
   "cell_type": "code",
   "execution_count": 1,
   "metadata": {},
   "outputs": [],
   "source": [
    "import numpy as np\n",
    "import pandas as pd\n",
    "import matplotlib.pyplot as plt"
   ]
  },
  {
   "cell_type": "markdown",
   "metadata": {},
   "source": [
    "# 와인 데이터 분석하기\n",
    "## 와인의 품질에 따른 좋은 와인 구별하기"
   ]
  },
  {
   "cell_type": "code",
   "execution_count": 2,
   "metadata": {
    "scrolled": true
   },
   "outputs": [
    {
     "data": {
      "text/html": [
       "<div>\n",
       "<style scoped>\n",
       "    .dataframe tbody tr th:only-of-type {\n",
       "        vertical-align: middle;\n",
       "    }\n",
       "\n",
       "    .dataframe tbody tr th {\n",
       "        vertical-align: top;\n",
       "    }\n",
       "\n",
       "    .dataframe thead th {\n",
       "        text-align: right;\n",
       "    }\n",
       "</style>\n",
       "<table border=\"1\" class=\"dataframe\">\n",
       "  <thead>\n",
       "    <tr style=\"text-align: right;\">\n",
       "      <th></th>\n",
       "      <th>fixed acidity</th>\n",
       "      <th>volatile acidity</th>\n",
       "      <th>citric acid</th>\n",
       "      <th>residual sugar</th>\n",
       "      <th>chlorides</th>\n",
       "      <th>free sulfur dioxide</th>\n",
       "      <th>total sulfur dioxide</th>\n",
       "      <th>density</th>\n",
       "      <th>pH</th>\n",
       "      <th>sulphates</th>\n",
       "      <th>alcohol</th>\n",
       "      <th>quality</th>\n",
       "    </tr>\n",
       "  </thead>\n",
       "  <tbody>\n",
       "    <tr>\n",
       "      <th>0</th>\n",
       "      <td>7.0</td>\n",
       "      <td>0.27</td>\n",
       "      <td>0.36</td>\n",
       "      <td>20.7</td>\n",
       "      <td>0.045</td>\n",
       "      <td>45.0</td>\n",
       "      <td>170.0</td>\n",
       "      <td>1.0010</td>\n",
       "      <td>3.00</td>\n",
       "      <td>0.45</td>\n",
       "      <td>8.8</td>\n",
       "      <td>6</td>\n",
       "    </tr>\n",
       "    <tr>\n",
       "      <th>1</th>\n",
       "      <td>6.3</td>\n",
       "      <td>0.30</td>\n",
       "      <td>0.34</td>\n",
       "      <td>1.6</td>\n",
       "      <td>0.049</td>\n",
       "      <td>14.0</td>\n",
       "      <td>132.0</td>\n",
       "      <td>0.9940</td>\n",
       "      <td>3.30</td>\n",
       "      <td>0.49</td>\n",
       "      <td>9.5</td>\n",
       "      <td>6</td>\n",
       "    </tr>\n",
       "    <tr>\n",
       "      <th>2</th>\n",
       "      <td>8.1</td>\n",
       "      <td>0.28</td>\n",
       "      <td>0.40</td>\n",
       "      <td>6.9</td>\n",
       "      <td>0.050</td>\n",
       "      <td>30.0</td>\n",
       "      <td>97.0</td>\n",
       "      <td>0.9951</td>\n",
       "      <td>3.26</td>\n",
       "      <td>0.44</td>\n",
       "      <td>10.1</td>\n",
       "      <td>6</td>\n",
       "    </tr>\n",
       "    <tr>\n",
       "      <th>3</th>\n",
       "      <td>7.2</td>\n",
       "      <td>0.23</td>\n",
       "      <td>0.32</td>\n",
       "      <td>8.5</td>\n",
       "      <td>0.058</td>\n",
       "      <td>47.0</td>\n",
       "      <td>186.0</td>\n",
       "      <td>0.9956</td>\n",
       "      <td>3.19</td>\n",
       "      <td>0.40</td>\n",
       "      <td>9.9</td>\n",
       "      <td>6</td>\n",
       "    </tr>\n",
       "    <tr>\n",
       "      <th>4</th>\n",
       "      <td>7.2</td>\n",
       "      <td>0.23</td>\n",
       "      <td>0.32</td>\n",
       "      <td>8.5</td>\n",
       "      <td>0.058</td>\n",
       "      <td>47.0</td>\n",
       "      <td>186.0</td>\n",
       "      <td>0.9956</td>\n",
       "      <td>3.19</td>\n",
       "      <td>0.40</td>\n",
       "      <td>9.9</td>\n",
       "      <td>6</td>\n",
       "    </tr>\n",
       "  </tbody>\n",
       "</table>\n",
       "</div>"
      ],
      "text/plain": [
       "   fixed acidity  volatile acidity  citric acid  residual sugar  chlorides  \\\n",
       "0            7.0              0.27         0.36            20.7      0.045   \n",
       "1            6.3              0.30         0.34             1.6      0.049   \n",
       "2            8.1              0.28         0.40             6.9      0.050   \n",
       "3            7.2              0.23         0.32             8.5      0.058   \n",
       "4            7.2              0.23         0.32             8.5      0.058   \n",
       "\n",
       "   free sulfur dioxide  total sulfur dioxide  density    pH  sulphates  \\\n",
       "0                 45.0                 170.0   1.0010  3.00       0.45   \n",
       "1                 14.0                 132.0   0.9940  3.30       0.49   \n",
       "2                 30.0                  97.0   0.9951  3.26       0.44   \n",
       "3                 47.0                 186.0   0.9956  3.19       0.40   \n",
       "4                 47.0                 186.0   0.9956  3.19       0.40   \n",
       "\n",
       "   alcohol  quality  \n",
       "0      8.8        6  \n",
       "1      9.5        6  \n",
       "2     10.1        6  \n",
       "3      9.9        6  \n",
       "4      9.9        6  "
      ]
     },
     "execution_count": 2,
     "metadata": {},
     "output_type": "execute_result"
    }
   ],
   "source": [
    "wine = pd.read_csv(\"./data/winequality-white.csv\", sep = \";\")\n",
    "wine.head()"
   ]
  },
  {
   "cell_type": "code",
   "execution_count": 3,
   "metadata": {
    "scrolled": true
   },
   "outputs": [
    {
     "data": {
      "image/png": "[encoded data removed]",
      "text/plain": [
       "<Figure size 432x288 with 1 Axes>"
      ]
     },
     "metadata": {
      "needs_background": "light"
     },
     "output_type": "display_data"
    }
   ],
   "source": [
    "wine[\"quality\"].plot.hist(bins = 6, density = True)\n",
    "plt.show()"
   ]
  },
  {
   "cell_type": "markdown",
   "metadata": {},
   "source": [
    "# 품질 기준에 따라 좋은 와인 데이터와 나쁜 와인 데이터를 구별함"
   ]
  },
  {
   "cell_type": "code",
   "execution_count": 4,
   "metadata": {},
   "outputs": [
    {
     "data": {
      "text/plain": [
       "((180, 12), (183, 12))"
      ]
     },
     "execution_count": 4,
     "metadata": {},
     "output_type": "execute_result"
    }
   ],
   "source": [
    "good_wine = wine[wine[\"quality\"] >= 8]\n",
    "bad_wine = wine[wine[\"quality\"] <= 4]\n",
    "good_wine.shape, bad_wine.shape"
   ]
  },
  {
   "cell_type": "markdown",
   "metadata": {},
   "source": [
    "## 타르타르산에 따른 좋은 와인과 나쁜와인의 구별"
   ]
  },
  {
   "cell_type": "code",
   "execution_count": 5,
   "metadata": {
    "scrolled": true
   },
   "outputs": [
    {
     "data": {
      "image/png": "[encoded data removed]",
      "text/plain": [
       "<Figure size 432x288 with 1 Axes>"
      ]
     },
     "metadata": {
      "needs_background": "light"
     },
     "output_type": "display_data"
    }
   ],
   "source": [
    "good_wine[\"fixed acidity\"].plot.hist(color = \"r\", alpha = 0.3, bins = 30, label = \"best\")\n",
    "bad_wine[\"fixed acidity\"].plot.hist(color = \"b\", alpha = 0.3, bins = 30, label = \"worst\")\n",
    "plt.ylabel(\"count\")\n",
    "plt.legend(loc = (1.2, 0.5))\n",
    "plt.show()"
   ]
  },
  {
   "cell_type": "markdown",
   "metadata": {},
   "source": [
    "## 아세트산에 따른 좋은 와인 분류"
   ]
  },
  {
   "cell_type": "code",
   "execution_count": 6,
   "metadata": {
    "scrolled": true
   },
   "outputs": [
    {
     "data": {
      "image/png": "[encoded data removed]",
      "text/plain": [
       "<Figure size 432x288 with 1 Axes>"
      ]
     },
     "metadata": {
      "needs_background": "light"
     },
     "output_type": "display_data"
    }
   ],
   "source": [
    "good_wine[\"volatile acidity\"].plot.hist(color = \"r\", alpha = 0.3, bins = 30, label = \"best\")\n",
    "bad_wine[\"volatile acidity\"].plot.hist(color = \"b\", alpha = 0.3, bins = 30, label = \"worst\")\n",
    "plt.ylabel(\"count\")\n",
    "plt.legend(loc = (1.2, 0.5))\n",
    "plt.show()"
   ]
  },
  {
   "cell_type": "markdown",
   "metadata": {},
   "source": [
    "## 설탕 잔여량에 따른 좋은 와인 구분"
   ]
  },
  {
   "cell_type": "code",
   "execution_count": 7,
   "metadata": {},
   "outputs": [
    {
     "data": {
      "image/png": "[encoded data removed]",
      "text/plain": [
       "<Figure size 432x288 with 1 Axes>"
      ]
     },
     "metadata": {
      "needs_background": "light"
     },
     "output_type": "display_data"
    }
   ],
   "source": [
    "good_wine[\"residual sugar\"].plot.hist(color = \"r\", alpha = 0.3, bins = 30, label = \"best\")\n",
    "bad_wine[\"residual sugar\"].plot.hist(color = \"b\", alpha = 0.3, bins = 30, label = \"worst\")\n",
    "plt.ylabel(\"count\")\n",
    "plt.legend(loc = (1.2, 0.5))\n",
    "plt.show()"
   ]
  },
  {
   "cell_type": "markdown",
   "metadata": {},
   "source": [
    "## 알코올 함량에 따른 좋은와인과 나쁜와인 구별"
   ]
  },
  {
   "cell_type": "code",
   "execution_count": 8,
   "metadata": {},
   "outputs": [
    {
     "data": {
      "image/png": "[encoded data removed]",
      "text/plain": [
       "<Figure size 432x288 with 1 Axes>"
      ]
     },
     "metadata": {
      "needs_background": "light"
     },
     "output_type": "display_data"
    }
   ],
   "source": [
    "good_wine[\"alcohol\"].plot.hist(color = \"r\", alpha = 0.3, bins = 27, label = \"best\")\n",
    "bad_wine[\"alcohol\"].plot.hist(color = \"b\", alpha = 0.3, bins = 27, label = \"worst\")\n",
    "plt.ylabel(\"count\")\n",
    "plt.legend(loc = (1.2, 0.5))\n",
    "plt.show()"
   ]
  },
  {
   "cell_type": "markdown",
   "metadata": {},
   "source": [
    "## 구연산에 따른 좋은 와인과 나쁜 와인의 구별"
   ]
  },
  {
   "cell_type": "code",
   "execution_count": 9,
   "metadata": {},
   "outputs": [
    {
     "data": {
      "image/png": "[encoded data removed]",
      "text/plain": [
       "<Figure size 432x288 with 1 Axes>"
      ]
     },
     "metadata": {
      "needs_background": "light"
     },
     "output_type": "display_data"
    }
   ],
   "source": [
    "good_wine[\"citric acid\"].plot.hist(color = \"r\", alpha = 0.3, bins = 27, label = \"best\")\n",
    "bad_wine[\"citric acid\"].plot.hist(color = \"b\", alpha = 0.3, bins = 27, label = \"worst\")\n",
    "plt.ylabel(\"count\")\n",
    "plt.legend(loc = (1.2, 0.5))\n",
    "plt.show()"
   ]
  },
  {
   "cell_type": "markdown",
   "metadata": {},
   "source": [
    "## 단순히 평균값의 차이를 통해 어떤 모델을 사용할지 구별"
   ]
  },
  {
   "cell_type": "code",
   "execution_count": 10,
   "metadata": {
    "scrolled": true
   },
   "outputs": [
    {
     "data": {
      "text/html": [
       "<div>\n",
       "<style scoped>\n",
       "    .dataframe tbody tr th:only-of-type {\n",
       "        vertical-align: middle;\n",
       "    }\n",
       "\n",
       "    .dataframe tbody tr th {\n",
       "        vertical-align: top;\n",
       "    }\n",
       "\n",
       "    .dataframe thead th {\n",
       "        text-align: right;\n",
       "    }\n",
       "</style>\n",
       "<table border=\"1\" class=\"dataframe\">\n",
       "  <thead>\n",
       "    <tr style=\"text-align: right;\">\n",
       "      <th></th>\n",
       "      <th>best</th>\n",
       "      <th>worst</th>\n",
       "      <th>mean_diff</th>\n",
       "    </tr>\n",
       "  </thead>\n",
       "  <tbody>\n",
       "    <tr>\n",
       "      <th>fixed acidity</th>\n",
       "      <td>6.678333</td>\n",
       "      <td>7.180874</td>\n",
       "      <td>-0.502541</td>\n",
       "    </tr>\n",
       "    <tr>\n",
       "      <th>volatile acidity</th>\n",
       "      <td>0.277972</td>\n",
       "      <td>0.375984</td>\n",
       "      <td>-0.098011</td>\n",
       "    </tr>\n",
       "    <tr>\n",
       "      <th>citric acid</th>\n",
       "      <td>0.328167</td>\n",
       "      <td>0.307705</td>\n",
       "      <td>0.020462</td>\n",
       "    </tr>\n",
       "    <tr>\n",
       "      <th>residual sugar</th>\n",
       "      <td>5.628333</td>\n",
       "      <td>4.821038</td>\n",
       "      <td>0.807295</td>\n",
       "    </tr>\n",
       "    <tr>\n",
       "      <th>chlorides</th>\n",
       "      <td>0.038011</td>\n",
       "      <td>0.050557</td>\n",
       "      <td>-0.012546</td>\n",
       "    </tr>\n",
       "    <tr>\n",
       "      <th>free sulfur dioxide</th>\n",
       "      <td>36.627778</td>\n",
       "      <td>26.633880</td>\n",
       "      <td>9.993898</td>\n",
       "    </tr>\n",
       "    <tr>\n",
       "      <th>total sulfur dioxide</th>\n",
       "      <td>125.883333</td>\n",
       "      <td>130.232240</td>\n",
       "      <td>-4.348907</td>\n",
       "    </tr>\n",
       "    <tr>\n",
       "      <th>density</th>\n",
       "      <td>0.992214</td>\n",
       "      <td>0.994343</td>\n",
       "      <td>-0.002129</td>\n",
       "    </tr>\n",
       "    <tr>\n",
       "      <th>pH</th>\n",
       "      <td>3.221167</td>\n",
       "      <td>3.183388</td>\n",
       "      <td>0.037779</td>\n",
       "    </tr>\n",
       "    <tr>\n",
       "      <th>sulphates</th>\n",
       "      <td>0.485667</td>\n",
       "      <td>0.475956</td>\n",
       "      <td>0.009710</td>\n",
       "    </tr>\n",
       "    <tr>\n",
       "      <th>alcohol</th>\n",
       "      <td>11.651111</td>\n",
       "      <td>10.173497</td>\n",
       "      <td>1.477614</td>\n",
       "    </tr>\n",
       "    <tr>\n",
       "      <th>quality</th>\n",
       "      <td>8.027778</td>\n",
       "      <td>3.890710</td>\n",
       "      <td>4.137067</td>\n",
       "    </tr>\n",
       "  </tbody>\n",
       "</table>\n",
       "</div>"
      ],
      "text/plain": [
       "                            best       worst  mean_diff\n",
       "fixed acidity           6.678333    7.180874  -0.502541\n",
       "volatile acidity        0.277972    0.375984  -0.098011\n",
       "citric acid             0.328167    0.307705   0.020462\n",
       "residual sugar          5.628333    4.821038   0.807295\n",
       "chlorides               0.038011    0.050557  -0.012546\n",
       "free sulfur dioxide    36.627778   26.633880   9.993898\n",
       "total sulfur dioxide  125.883333  130.232240  -4.348907\n",
       "density                 0.992214    0.994343  -0.002129\n",
       "pH                      3.221167    3.183388   0.037779\n",
       "sulphates               0.485667    0.475956   0.009710\n",
       "alcohol                11.651111   10.173497   1.477614\n",
       "quality                 8.027778    3.890710   4.137067"
      ]
     },
     "execution_count": 10,
     "metadata": {},
     "output_type": "execute_result"
    }
   ],
   "source": [
    "pd.concat([good_wine.mean(axis = 0), bad_wine.mean(axis = 0), (good_wine.mean(axis = 0) - bad_wine.mean(axis = 0))], axis = 1, keys = [\"best\", \"worst\", \"mean_diff\"])"
   ]
  },
  {
   "cell_type": "markdown",
   "metadata": {},
   "source": [
    "## 딱히 큰 차이점이 보이지 않아 여러변수들을 고려해서 예측 모델을 만들어보기로함"
   ]
  },
  {
   "cell_type": "markdown",
   "metadata": {},
   "source": [
    "# 로지스틱 회귀분석 모델"
   ]
  },
  {
   "cell_type": "code",
   "execution_count": 11,
   "metadata": {},
   "outputs": [],
   "source": [
    "total_wine = pd.concat([good_wine, bad_wine], axis = 0)"
   ]
  },
  {
   "cell_type": "code",
   "execution_count": 12,
   "metadata": {},
   "outputs": [
    {
     "data": {
      "text/plain": [
       "array([[ 6.2  ,  0.66 ,  0.48 , ...,  3.33 ,  0.39 , 12.8  ],\n",
       "       [ 6.2  ,  0.66 ,  0.48 , ...,  3.33 ,  0.39 , 12.8  ],\n",
       "       [ 6.8  ,  0.26 ,  0.42 , ...,  3.47 ,  0.48 , 10.5  ],\n",
       "       ...,\n",
       "       [ 6.   ,  0.35 ,  0.46 , ...,  3.24 ,  0.35 , 12.1  ],\n",
       "       [ 5.2  ,  0.405,  0.15 , ...,  3.52 ,  0.4  , 11.6  ],\n",
       "       [ 6.2  ,  0.53 ,  0.02 , ...,  3.24 ,  0.35 ,  9.5  ]])"
      ]
     },
     "execution_count": 12,
     "metadata": {},
     "output_type": "execute_result"
    }
   ],
   "source": [
    "X_data = total_wine.drop(\"quality\", axis = 1)\n",
    "X_data = X_data.values\n",
    "X_data"
   ]
  },
  {
   "cell_type": "code",
   "execution_count": 13,
   "metadata": {
    "scrolled": true
   },
   "outputs": [
    {
     "data": {
      "text/plain": [
       "array([1, 1, 1, 1, 1, 1, 1, 1, 1, 1, 1, 1, 1, 1, 1, 1, 1, 1, 1, 1, 1, 1,\n",
       "       1, 1, 1, 1, 1, 1, 1, 1, 1, 1, 1, 1, 1, 1, 1, 1, 1, 1, 1, 1, 1, 1,\n",
       "       1, 1, 1, 1, 1, 1, 1, 1, 1, 1, 1, 1, 1, 1, 1, 1, 1, 1, 1, 1, 1, 1,\n",
       "       1, 1, 1, 1, 1, 1, 1, 1, 1, 1, 1, 1, 1, 1, 1, 1, 1, 1, 1, 1, 1, 1,\n",
       "       1, 1, 1, 1, 1, 1, 1, 1, 1, 1, 1, 1, 1, 1, 1, 1, 1, 1, 1, 1, 1, 1,\n",
       "       1, 1, 1, 1, 1, 1, 1, 1, 1, 1, 1, 1, 1, 1, 1, 1, 1, 1, 1, 1, 1, 1,\n",
       "       1, 1, 1, 1, 1, 1, 1, 1, 1, 1, 1, 1, 1, 1, 1, 1, 1, 1, 1, 1, 1, 1,\n",
       "       1, 1, 1, 1, 1, 1, 1, 1, 1, 1, 1, 1, 1, 1, 1, 1, 1, 1, 1, 1, 1, 1,\n",
       "       1, 1, 1, 1, 0, 0, 0, 0, 0, 0, 0, 0, 0, 0, 0, 0, 0, 0, 0, 0, 0, 0,\n",
       "       0, 0, 0, 0, 0, 0, 0, 0, 0, 0, 0, 0, 0, 0, 0, 0, 0, 0, 0, 0, 0, 0,\n",
       "       0, 0, 0, 0, 0, 0, 0, 0, 0, 0, 0, 0, 0, 0, 0, 0, 0, 0, 0, 0, 0, 0,\n",
       "       0, 0, 0, 0, 0, 0, 0, 0, 0, 0, 0, 0, 0, 0, 0, 0, 0, 0, 0, 0, 0, 0,\n",
       "       0, 0, 0, 0, 0, 0, 0, 0, 0, 0, 0, 0, 0, 0, 0, 0, 0, 0, 0, 0, 0, 0,\n",
       "       0, 0, 0, 0, 0, 0, 0, 0, 0, 0, 0, 0, 0, 0, 0, 0, 0, 0, 0, 0, 0, 0,\n",
       "       0, 0, 0, 0, 0, 0, 0, 0, 0, 0, 0, 0, 0, 0, 0, 0, 0, 0, 0, 0, 0, 0,\n",
       "       0, 0, 0, 0, 0, 0, 0, 0, 0, 0, 0, 0, 0, 0, 0, 0, 0, 0, 0, 0, 0, 0,\n",
       "       0, 0, 0, 0, 0, 0, 0, 0, 0, 0, 0])"
      ]
     },
     "execution_count": 13,
     "metadata": {},
     "output_type": "execute_result"
    }
   ],
   "source": [
    "y_data = total_wine[\"quality\"]\n",
    "y_data = np.array([1 if quality >=8 else 0 for quality in y_data])\n",
    "y_data"
   ]
  },
  {
   "cell_type": "code",
   "execution_count": 14,
   "metadata": {},
   "outputs": [],
   "source": [
    "from sklearn.linear_model import LogisticRegression\n",
    "from sklearn.metrics import accuracy_score\n",
    "from sklearn.model_selection import train_test_split"
   ]
  },
  {
   "cell_type": "code",
   "execution_count": 15,
   "metadata": {},
   "outputs": [],
   "source": [
    "train_X, test_X, train_y, test_y = train_test_split(X_data, y_data, test_size = 0.2)"
   ]
  },
  {
   "cell_type": "code",
   "execution_count": 16,
   "metadata": {},
   "outputs": [
    {
     "name": "stderr",
     "output_type": "stream",
     "text": [
      "C:\\ProgramData\\Anaconda3\\lib\\site-packages\\sklearn\\linear_model\\logistic.py:433: FutureWarning: Default solver will be changed to 'lbfgs' in 0.22. Specify a solver to silence this warning.\n",
      "  FutureWarning)\n"
     ]
    },
    {
     "data": {
      "text/plain": [
       "LogisticRegression(C=1.0, class_weight=None, dual=False, fit_intercept=True,\n",
       "          intercept_scaling=1, max_iter=100, multi_class='warn',\n",
       "          n_jobs=None, penalty='l2', random_state=None, solver='warn',\n",
       "          tol=0.0001, verbose=0, warm_start=False)"
      ]
     },
     "execution_count": 16,
     "metadata": {},
     "output_type": "execute_result"
    }
   ],
   "source": [
    "log_reg = LogisticRegression()\n",
    "log_reg.fit(train_X, train_y)"
   ]
  },
  {
   "cell_type": "code",
   "execution_count": 17,
   "metadata": {},
   "outputs": [],
   "source": [
    "y_pred = log_reg.predict(test_X)"
   ]
  },
  {
   "cell_type": "code",
   "execution_count": 18,
   "metadata": {},
   "outputs": [
    {
     "data": {
      "text/plain": [
       "0.8344827586206897"
      ]
     },
     "execution_count": 18,
     "metadata": {},
     "output_type": "execute_result"
    }
   ],
   "source": [
    "log_reg.score(train_X, train_y)"
   ]
  },
  {
   "cell_type": "code",
   "execution_count": 19,
   "metadata": {},
   "outputs": [
    {
     "data": {
      "text/plain": [
       "0.7945205479452054"
      ]
     },
     "execution_count": 19,
     "metadata": {},
     "output_type": "execute_result"
    }
   ],
   "source": [
    "accuracy_score(test_y, y_pred)"
   ]
  },
  {
   "cell_type": "markdown",
   "metadata": {},
   "source": [
    "# 로지스틱 회귀 모형 정확도가 대략 76% 정도됨"
   ]
  },
  {
   "cell_type": "code",
   "execution_count": 20,
   "metadata": {},
   "outputs": [
    {
     "name": "stdout",
     "output_type": "stream",
     "text": [
      "              precision    recall  f1-score   support\n",
      "\n",
      "           0       0.78      0.84      0.81        37\n",
      "           1       0.82      0.75      0.78        36\n",
      "\n",
      "   micro avg       0.79      0.79      0.79        73\n",
      "   macro avg       0.80      0.79      0.79        73\n",
      "weighted avg       0.80      0.79      0.79        73\n",
      "\n"
     ]
    }
   ],
   "source": [
    "from sklearn.metrics import classification_report\n",
    "y_true, y_pred = test_y, log_reg.predict(test_X)\n",
    "print(classification_report(y_true, y_pred))"
   ]
  },
  {
   "cell_type": "markdown",
   "metadata": {},
   "source": [
    "# 선형 회귀 모형으로 예측 한 결과"
   ]
  },
  {
   "cell_type": "code",
   "execution_count": 21,
   "metadata": {
    "scrolled": true
   },
   "outputs": [
    {
     "data": {
      "image/png": "[encoded data removed]",
      "text/plain": [
       "<Figure size 720x360 with 1 Axes>"
      ]
     },
     "metadata": {
      "needs_background": "light"
     },
     "output_type": "display_data"
    }
   ],
   "source": [
    "import seaborn as sns\n",
    "plt.figure(figsize = (10, 5))\n",
    "sns.boxplot(x = total_wine[\"quality\"], y = total_wine[\"alcohol\"])\n",
    "plt.show()"
   ]
  },
  {
   "cell_type": "markdown",
   "metadata": {},
   "source": [
    "## seaborn으로 시각화한 결과 품질에 따라 알코올 함량의 수를 파악할 수 있었음"
   ]
  },
  {
   "cell_type": "code",
   "execution_count": 22,
   "metadata": {},
   "outputs": [],
   "source": [
    "from sklearn.linear_model import LinearRegression"
   ]
  },
  {
   "cell_type": "code",
   "execution_count": 23,
   "metadata": {},
   "outputs": [
    {
     "data": {
      "text/plain": [
       "((363,), (363,))"
      ]
     },
     "execution_count": 23,
     "metadata": {},
     "output_type": "execute_result"
    }
   ],
   "source": [
    "x = total_wine[\"quality\"].values\n",
    "y = total_wine[\"alcohol\"].values\n",
    "x.shape, y.shape"
   ]
  },
  {
   "cell_type": "code",
   "execution_count": 24,
   "metadata": {},
   "outputs": [],
   "source": [
    "train_X, test_X, train_y, test_y = train_test_split(x, y, test_size = 0.33)"
   ]
  },
  {
   "cell_type": "code",
   "execution_count": 25,
   "metadata": {},
   "outputs": [
    {
     "data": {
      "text/plain": [
       "LinearRegression(copy_X=True, fit_intercept=True, n_jobs=None,\n",
       "         normalize=False)"
      ]
     },
     "execution_count": 25,
     "metadata": {},
     "output_type": "execute_result"
    }
   ],
   "source": [
    "lr = LinearRegression()\n",
    "lr.fit(train_X.reshape(-1, 1), train_y.reshape(-1, 1))"
   ]
  },
  {
   "cell_type": "code",
   "execution_count": 26,
   "metadata": {
    "scrolled": false
   },
   "outputs": [],
   "source": [
    "y_pred = lr.predict(test_X.reshape(-1, 1))"
   ]
  },
  {
   "cell_type": "code",
   "execution_count": 27,
   "metadata": {},
   "outputs": [
    {
     "data": {
      "text/plain": [
       "0.3050285573956213"
      ]
     },
     "execution_count": 27,
     "metadata": {},
     "output_type": "execute_result"
    }
   ],
   "source": [
    "from sklearn.metrics import r2_score\n",
    "r2_score(test_y, y_pred)"
   ]
  },
  {
   "cell_type": "markdown",
   "metadata": {},
   "source": [
    "# 로지스틱 회귀분석과 비교했을때 결과값이 너무 안좋음\n",
    "## 따라서 여러 변수들을 결과값에 사용했을때의 모델이 더 정확한 측정값을 나타냄"
   ]
  },
  {
   "cell_type": "markdown",
   "metadata": {},
   "source": [
    "# 다음은 전처리 과정을 거쳐서 텐서플로우로 로지스틱 회귀를 구현했다. 그랬더니 성능이 더 좋아진것을 알수 있었다."
   ]
  },
  {
   "cell_type": "code",
   "execution_count": 28,
   "metadata": {},
   "outputs": [],
   "source": [
    "from sklearn.preprocessing import StandardScaler"
   ]
  },
  {
   "cell_type": "code",
   "execution_count": 29,
   "metadata": {},
   "outputs": [],
   "source": [
    "std = StandardScaler()"
   ]
  },
  {
   "cell_type": "code",
   "execution_count": 30,
   "metadata": {},
   "outputs": [],
   "source": [
    "std.fit(X_data)\n",
    "X_scaled = std.transform(X_data)"
   ]
  },
  {
   "cell_type": "code",
   "execution_count": 36,
   "metadata": {},
   "outputs": [],
   "source": [
    "y_scaled = y_data.reshape(-1, 1)"
   ]
  },
  {
   "cell_type": "code",
   "execution_count": 32,
   "metadata": {},
   "outputs": [],
   "source": [
    "import tensorflow as tf"
   ]
  },
  {
   "cell_type": "code",
   "execution_count": 37,
   "metadata": {},
   "outputs": [
    {
     "data": {
      "text/plain": [
       "((363, 11), (363, 1))"
      ]
     },
     "execution_count": 37,
     "metadata": {},
     "output_type": "execute_result"
    }
   ],
   "source": [
    "X_scaled.shape, y_scaled.shape"
   ]
  },
  {
   "cell_type": "code",
   "execution_count": 38,
   "metadata": {},
   "outputs": [],
   "source": [
    "X = tf.placeholder(tf.float32, shape = [None, 11])\n",
    "Y = tf.placeholder(tf.float32, shape = [None, 1])"
   ]
  },
  {
   "cell_type": "code",
   "execution_count": 48,
   "metadata": {},
   "outputs": [
    {
     "name": "stdout",
     "output_type": "stream",
     "text": [
      "WARNING:tensorflow:From C:\\ProgramData\\Anaconda3\\lib\\site-packages\\tensorflow\\python\\framework\\op_def_library.py:263: colocate_with (from tensorflow.python.framework.ops) is deprecated and will be removed in a future version.\n",
      "Instructions for updating:\n",
      "Colocations handled automatically by placer.\n"
     ]
    }
   ],
   "source": [
    "W = tf.Variable(tf.random_normal([11, 1], name = \"weight\"))\n",
    "b = tf.Variable(tf.random_normal([1], name = \"bias\"))"
   ]
  },
  {
   "cell_type": "code",
   "execution_count": 49,
   "metadata": {},
   "outputs": [],
   "source": [
    "hypothesis = tf.sigmoid(tf.matmul(X, W) + b)"
   ]
  },
  {
   "cell_type": "code",
   "execution_count": 50,
   "metadata": {},
   "outputs": [],
   "source": [
    "cost = -tf.reduce_mean(Y * tf.log(hypothesis) + (1 - Y) * tf.log(1 - hypothesis))"
   ]
  },
  {
   "cell_type": "code",
   "execution_count": 51,
   "metadata": {},
   "outputs": [],
   "source": [
    "optimizer = tf.train.GradientDescentOptimizer(learning_rate=0.05)"
   ]
  },
  {
   "cell_type": "code",
   "execution_count": 52,
   "metadata": {},
   "outputs": [],
   "source": [
    "train = optimizer.minimize(cost)"
   ]
  },
  {
   "cell_type": "code",
   "execution_count": 53,
   "metadata": {},
   "outputs": [],
   "source": [
    "predicted = tf.cast(hypothesis > 0.5, dtype = tf.float32)\n",
    "accuracy = tf.reduce_mean(tf.cast(tf.equal(predicted, Y), dtype = tf.float32))"
   ]
  },
  {
   "cell_type": "code",
   "execution_count": 54,
   "metadata": {},
   "outputs": [
    {
     "name": "stdout",
     "output_type": "stream",
     "text": [
      "0 1.6797287\n",
      "200 0.5274179\n",
      "400 0.40115774\n",
      "600 0.3698425\n",
      "800 0.36067003\n",
      "1000 0.35729048\n",
      "1200 0.3556657\n",
      "1400 0.35468817\n",
      "1600 0.3540039\n",
      "1800 0.35347638\n",
      "2000 0.35304272\n",
      "\n",
      "Hypotheis: \n",
      " [[2.37091303e-01]\n",
      " [2.37091303e-01]\n",
      " [4.23241228e-01]\n",
      " [5.44414103e-01]\n",
      " [5.44414103e-01]\n",
      " [6.76106215e-01]\n",
      " [6.76106215e-01]\n",
      " [5.77656209e-01]\n",
      " [9.50177610e-02]\n",
      " [9.28004622e-01]\n",
      " [9.29407418e-01]\n",
      " [8.75106215e-01]\n",
      " [9.50803757e-01]\n",
      " [9.76653099e-01]\n",
      " [9.63388562e-01]\n",
      " [9.85980511e-01]\n",
      " [8.89846444e-01]\n",
      " [8.17495286e-01]\n",
      " [9.80027914e-01]\n",
      " [9.95405078e-01]\n",
      " [7.84152746e-01]\n",
      " [5.84618270e-01]\n",
      " [5.58902085e-01]\n",
      " [5.58902085e-01]\n",
      " [7.66345382e-01]\n",
      " [8.55702758e-01]\n",
      " [9.04428244e-01]\n",
      " [9.41611767e-01]\n",
      " [7.79198587e-01]\n",
      " [7.39355087e-01]\n",
      " [7.39355087e-01]\n",
      " [7.39355087e-01]\n",
      " [6.25823200e-01]\n",
      " [6.25823200e-01]\n",
      " [2.72369385e-01]\n",
      " [3.09870332e-01]\n",
      " [9.54425097e-01]\n",
      " [9.50813055e-01]\n",
      " [3.38920951e-02]\n",
      " [8.64055216e-01]\n",
      " [4.25966263e-01]\n",
      " [8.96224380e-01]\n",
      " [8.15766692e-01]\n",
      " [4.98504668e-01]\n",
      " [7.70879030e-01]\n",
      " [8.15766692e-01]\n",
      " [4.68694627e-01]\n",
      " [9.76197481e-01]\n",
      " [9.60195482e-01]\n",
      " [7.28253841e-01]\n",
      " [2.28660583e-01]\n",
      " [6.26308441e-01]\n",
      " [2.28660583e-01]\n",
      " [8.46768260e-01]\n",
      " [8.66270423e-01]\n",
      " [9.33121622e-01]\n",
      " [9.30941701e-01]\n",
      " [7.10257232e-01]\n",
      " [8.97543669e-01]\n",
      " [7.69550741e-01]\n",
      " [7.10257232e-01]\n",
      " [7.18532383e-01]\n",
      " [3.58474612e-01]\n",
      " [4.07575667e-01]\n",
      " [4.15643513e-01]\n",
      " [8.24621797e-01]\n",
      " [9.00072813e-01]\n",
      " [8.82917583e-01]\n",
      " [8.93201351e-01]\n",
      " [9.93545294e-01]\n",
      " [9.55609560e-01]\n",
      " [8.91163468e-01]\n",
      " [9.54543591e-01]\n",
      " [9.34559941e-01]\n",
      " [8.59045327e-01]\n",
      " [8.59045327e-01]\n",
      " [8.29435825e-01]\n",
      " [8.29435825e-01]\n",
      " [9.30602968e-01]\n",
      " [4.78569388e-01]\n",
      " [4.78569388e-01]\n",
      " [4.78569388e-01]\n",
      " [4.78569388e-01]\n",
      " [4.78569388e-01]\n",
      " [4.78569388e-01]\n",
      " [8.78103137e-01]\n",
      " [9.47497308e-01]\n",
      " [7.53725827e-01]\n",
      " [5.94610631e-01]\n",
      " [5.94610631e-01]\n",
      " [5.57964623e-01]\n",
      " [4.22366560e-01]\n",
      " [7.48224378e-01]\n",
      " [7.48224378e-01]\n",
      " [6.61600769e-01]\n",
      " [9.83431399e-01]\n",
      " [9.83431399e-01]\n",
      " [7.64209330e-01]\n",
      " [8.51957917e-01]\n",
      " [8.51957917e-01]\n",
      " [8.48678887e-01]\n",
      " [7.86228299e-01]\n",
      " [9.93705273e-01]\n",
      " [7.86228299e-01]\n",
      " [9.58541512e-01]\n",
      " [9.64689314e-01]\n",
      " [9.75850344e-01]\n",
      " [8.82111907e-01]\n",
      " [9.48259473e-01]\n",
      " [9.30114627e-01]\n",
      " [9.48259473e-01]\n",
      " [8.76647592e-01]\n",
      " [8.76647592e-01]\n",
      " [8.76647592e-01]\n",
      " [9.87077117e-01]\n",
      " [9.67979789e-01]\n",
      " [5.75528800e-01]\n",
      " [9.31060195e-01]\n",
      " [8.77077878e-01]\n",
      " [8.77077878e-01]\n",
      " [9.60796118e-01]\n",
      " [4.52135563e-01]\n",
      " [9.60796118e-01]\n",
      " [8.47541451e-01]\n",
      " [9.19295490e-01]\n",
      " [9.15992558e-01]\n",
      " [8.71682882e-01]\n",
      " [9.47877765e-01]\n",
      " [9.00043964e-01]\n",
      " [9.63660181e-01]\n",
      " [9.29192007e-01]\n",
      " [9.90772486e-01]\n",
      " [9.90772486e-01]\n",
      " [9.60975409e-01]\n",
      " [9.60975409e-01]\n",
      " [9.58633780e-01]\n",
      " [9.69377518e-01]\n",
      " [9.61549640e-01]\n",
      " [9.88356709e-01]\n",
      " [9.88356709e-01]\n",
      " [8.82344544e-01]\n",
      " [9.84949708e-01]\n",
      " [8.82344544e-01]\n",
      " [9.51787829e-01]\n",
      " [9.63798285e-01]\n",
      " [9.51787829e-01]\n",
      " [9.51401114e-01]\n",
      " [9.63798285e-01]\n",
      " [7.43201792e-01]\n",
      " [9.28454936e-01]\n",
      " [7.62311995e-01]\n",
      " [9.72255647e-01]\n",
      " [9.83219862e-01]\n",
      " [7.62311995e-01]\n",
      " [9.72255647e-01]\n",
      " [7.21563935e-01]\n",
      " [9.85813439e-01]\n",
      " [9.85813439e-01]\n",
      " [8.99541378e-01]\n",
      " [8.99541378e-01]\n",
      " [9.53766465e-01]\n",
      " [9.62261498e-01]\n",
      " [9.48318064e-01]\n",
      " [4.32285577e-01]\n",
      " [9.87393439e-01]\n",
      " [7.91336536e-01]\n",
      " [4.08790231e-01]\n",
      " [4.08790231e-01]\n",
      " [4.08790231e-01]\n",
      " [4.08790231e-01]\n",
      " [4.08790231e-01]\n",
      " [4.08790231e-01]\n",
      " [4.08790231e-01]\n",
      " [2.90863633e-01]\n",
      " [4.08790231e-01]\n",
      " [9.65100169e-01]\n",
      " [8.99222136e-01]\n",
      " [9.75298166e-01]\n",
      " [9.93028581e-01]\n",
      " [9.35459495e-01]\n",
      " [5.27223349e-02]\n",
      " [1.29973114e-01]\n",
      " [2.10526586e-02]\n",
      " [3.98108363e-03]\n",
      " [4.62138653e-02]\n",
      " [8.76324654e-01]\n",
      " [2.02834606e-04]\n",
      " [9.67947245e-02]\n",
      " [2.57074475e-01]\n",
      " [8.89083743e-03]\n",
      " [6.49178028e-03]\n",
      " [5.26788116e-01]\n",
      " [7.41066694e-01]\n",
      " [8.67670238e-01]\n",
      " [2.72455007e-01]\n",
      " [1.03506714e-01]\n",
      " [6.99405074e-02]\n",
      " [1.80721283e-04]\n",
      " [1.16527081e-03]\n",
      " [9.31180418e-01]\n",
      " [3.64918411e-02]\n",
      " [3.64918411e-02]\n",
      " [8.77771556e-01]\n",
      " [8.35266888e-01]\n",
      " [1.14051402e-02]\n",
      " [2.90491521e-01]\n",
      " [8.01327825e-03]\n",
      " [3.38709265e-01]\n",
      " [9.33569670e-03]\n",
      " [5.08257747e-03]\n",
      " [2.51950681e-01]\n",
      " [4.86785769e-02]\n",
      " [8.45437407e-01]\n",
      " [3.02122056e-01]\n",
      " [8.17995369e-01]\n",
      " [4.48036790e-02]\n",
      " [2.83155084e-01]\n",
      " [5.68975508e-02]\n",
      " [3.72236431e-01]\n",
      " [1.94198489e-02]\n",
      " [9.23901796e-04]\n",
      " [6.64162040e-02]\n",
      " [1.82883680e-01]\n",
      " [1.40032172e-02]\n",
      " [1.03968084e-02]\n",
      " [1.55982375e-03]\n",
      " [2.72545218e-03]\n",
      " [5.33259511e-02]\n",
      " [3.85141671e-02]\n",
      " [1.85435712e-02]\n",
      " [2.23477781e-02]\n",
      " [1.05439723e-02]\n",
      " [2.81354785e-03]\n",
      " [1.88433260e-01]\n",
      " [1.09291166e-01]\n",
      " [6.00195765e-01]\n",
      " [1.62899494e-02]\n",
      " [2.69810408e-01]\n",
      " [2.24040061e-01]\n",
      " [3.50664556e-02]\n",
      " [2.62239873e-02]\n",
      " [1.13580853e-01]\n",
      " [7.27686584e-02]\n",
      " [3.90193045e-01]\n",
      " [1.86365753e-01]\n",
      " [1.32227242e-02]\n",
      " [5.62472343e-02]\n",
      " [5.62472343e-02]\n",
      " [1.59686804e-02]\n",
      " [2.17306614e-03]\n",
      " [1.12684667e-02]\n",
      " [4.30974066e-02]\n",
      " [6.14331365e-01]\n",
      " [3.54325771e-03]\n",
      " [2.37682909e-01]\n",
      " [7.08274841e-02]\n",
      " [1.99009717e-01]\n",
      " [3.30366045e-01]\n",
      " [3.71967345e-01]\n",
      " [2.79867649e-03]\n",
      " [1.90910995e-02]\n",
      " [6.54196739e-03]\n",
      " [2.19339430e-02]\n",
      " [2.30507702e-01]\n",
      " [8.14272761e-02]\n",
      " [5.43028116e-03]\n",
      " [3.01599503e-05]\n",
      " [1.01624638e-01]\n",
      " [2.60930121e-01]\n",
      " [1.02519989e-05]\n",
      " [3.66079807e-03]\n",
      " [1.51502877e-01]\n",
      " [8.89374018e-02]\n",
      " [7.90753841e-01]\n",
      " [1.97507083e-01]\n",
      " [1.91956758e-04]\n",
      " [5.55867791e-01]\n",
      " [8.82395029e-01]\n",
      " [5.03603101e-01]\n",
      " [2.78760672e-01]\n",
      " [2.78760672e-01]\n",
      " [4.17935193e-01]\n",
      " [2.53022373e-01]\n",
      " [1.97385401e-01]\n",
      " [1.16905361e-01]\n",
      " [5.39105773e-01]\n",
      " [1.20896995e-02]\n",
      " [7.09410906e-02]\n",
      " [5.96782863e-02]\n",
      " [4.67565954e-02]\n",
      " [4.73531783e-02]\n",
      " [4.01405305e-01]\n",
      " [9.51783657e-02]\n",
      " [1.45865202e-01]\n",
      " [3.43242466e-01]\n",
      " [1.39769018e-01]\n",
      " [3.43242466e-01]\n",
      " [6.48322105e-02]\n",
      " [5.24206758e-02]\n",
      " [3.19905400e-01]\n",
      " [3.19905400e-01]\n",
      " [7.23049045e-03]\n",
      " [7.23049045e-03]\n",
      " [5.51038980e-03]\n",
      " [5.51038980e-03]\n",
      " [1.16506219e-03]\n",
      " [4.09395576e-01]\n",
      " [6.97323203e-01]\n",
      " [1.93924040e-01]\n",
      " [6.72180057e-01]\n",
      " [3.06365550e-01]\n",
      " [3.54479730e-01]\n",
      " [4.62555230e-01]\n",
      " [1.77452087e-01]\n",
      " [6.26925528e-01]\n",
      " [2.12447613e-01]\n",
      " [2.33876020e-01]\n",
      " [9.14382041e-02]\n",
      " [5.72182834e-02]\n",
      " [6.78777099e-02]\n",
      " [1.39709115e-02]\n",
      " [9.22454298e-01]\n",
      " [5.18670440e-01]\n",
      " [2.08678424e-01]\n",
      " [1.65537894e-02]\n",
      " [5.64611852e-01]\n",
      " [3.06800008e-02]\n",
      " [3.79948854e-01]\n",
      " [2.07965344e-01]\n",
      " [1.59732699e-02]\n",
      " [1.03816330e-01]\n",
      " [9.72900331e-01]\n",
      " [5.95501661e-01]\n",
      " [9.28608537e-01]\n",
      " [8.21842551e-02]\n",
      " [2.46945024e-02]\n",
      " [2.34918684e-01]\n",
      " [4.62567538e-01]\n",
      " [4.37730014e-01]\n",
      " [1.20070547e-01]\n",
      " [1.20070547e-01]\n",
      " [7.83997774e-03]\n",
      " [3.11321020e-03]\n",
      " [2.98276484e-01]\n",
      " [2.12520361e-02]\n",
      " [3.12361717e-02]\n",
      " [2.19601691e-02]\n",
      " [2.19601691e-02]\n",
      " [3.14722955e-01]\n",
      " [2.31988966e-01]\n",
      " [3.19692552e-01]\n",
      " [7.67535448e-01]\n",
      " [4.69283760e-02]\n",
      " [8.86656106e-01]\n",
      " [1.87118649e-02]\n",
      " [3.62971425e-03]\n",
      " [3.62971425e-03]\n",
      " [9.82967019e-01]\n",
      " [3.36546838e-01]\n",
      " [2.51742005e-02]\n",
      " [5.80954611e-01]\n",
      " [5.15562534e-01]\n",
      " [4.25895862e-03]] \n",
      "Correct (Y): \n",
      " [[0.]\n",
      " [0.]\n",
      " [0.]\n",
      " [1.]\n",
      " [1.]\n",
      " [1.]\n",
      " [1.]\n",
      " [1.]\n",
      " [0.]\n",
      " [1.]\n",
      " [1.]\n",
      " [1.]\n",
      " [1.]\n",
      " [1.]\n",
      " [1.]\n",
      " [1.]\n",
      " [1.]\n",
      " [1.]\n",
      " [1.]\n",
      " [1.]\n",
      " [1.]\n",
      " [1.]\n",
      " [1.]\n",
      " [1.]\n",
      " [1.]\n",
      " [1.]\n",
      " [1.]\n",
      " [1.]\n",
      " [1.]\n",
      " [1.]\n",
      " [1.]\n",
      " [1.]\n",
      " [1.]\n",
      " [1.]\n",
      " [0.]\n",
      " [0.]\n",
      " [1.]\n",
      " [1.]\n",
      " [0.]\n",
      " [1.]\n",
      " [0.]\n",
      " [1.]\n",
      " [1.]\n",
      " [0.]\n",
      " [1.]\n",
      " [1.]\n",
      " [0.]\n",
      " [1.]\n",
      " [1.]\n",
      " [1.]\n",
      " [0.]\n",
      " [1.]\n",
      " [0.]\n",
      " [1.]\n",
      " [1.]\n",
      " [1.]\n",
      " [1.]\n",
      " [1.]\n",
      " [1.]\n",
      " [1.]\n",
      " [1.]\n",
      " [1.]\n",
      " [0.]\n",
      " [0.]\n",
      " [0.]\n",
      " [1.]\n",
      " [1.]\n",
      " [1.]\n",
      " [1.]\n",
      " [1.]\n",
      " [1.]\n",
      " [1.]\n",
      " [1.]\n",
      " [1.]\n",
      " [1.]\n",
      " [1.]\n",
      " [1.]\n",
      " [1.]\n",
      " [1.]\n",
      " [0.]\n",
      " [0.]\n",
      " [0.]\n",
      " [0.]\n",
      " [0.]\n",
      " [0.]\n",
      " [1.]\n",
      " [1.]\n",
      " [1.]\n",
      " [1.]\n",
      " [1.]\n",
      " [1.]\n",
      " [0.]\n",
      " [1.]\n",
      " [1.]\n",
      " [1.]\n",
      " [1.]\n",
      " [1.]\n",
      " [1.]\n",
      " [1.]\n",
      " [1.]\n",
      " [1.]\n",
      " [1.]\n",
      " [1.]\n",
      " [1.]\n",
      " [1.]\n",
      " [1.]\n",
      " [1.]\n",
      " [1.]\n",
      " [1.]\n",
      " [1.]\n",
      " [1.]\n",
      " [1.]\n",
      " [1.]\n",
      " [1.]\n",
      " [1.]\n",
      " [1.]\n",
      " [1.]\n",
      " [1.]\n",
      " [1.]\n",
      " [1.]\n",
      " [1.]\n",
      " [0.]\n",
      " [1.]\n",
      " [1.]\n",
      " [1.]\n",
      " [1.]\n",
      " [1.]\n",
      " [1.]\n",
      " [1.]\n",
      " [1.]\n",
      " [1.]\n",
      " [1.]\n",
      " [1.]\n",
      " [1.]\n",
      " [1.]\n",
      " [1.]\n",
      " [1.]\n",
      " [1.]\n",
      " [1.]\n",
      " [1.]\n",
      " [1.]\n",
      " [1.]\n",
      " [1.]\n",
      " [1.]\n",
      " [1.]\n",
      " [1.]\n",
      " [1.]\n",
      " [1.]\n",
      " [1.]\n",
      " [1.]\n",
      " [1.]\n",
      " [1.]\n",
      " [1.]\n",
      " [1.]\n",
      " [1.]\n",
      " [1.]\n",
      " [1.]\n",
      " [1.]\n",
      " [1.]\n",
      " [1.]\n",
      " [1.]\n",
      " [1.]\n",
      " [1.]\n",
      " [0.]\n",
      " [1.]\n",
      " [1.]\n",
      " [0.]\n",
      " [0.]\n",
      " [0.]\n",
      " [0.]\n",
      " [0.]\n",
      " [0.]\n",
      " [0.]\n",
      " [0.]\n",
      " [0.]\n",
      " [1.]\n",
      " [1.]\n",
      " [1.]\n",
      " [1.]\n",
      " [1.]\n",
      " [0.]\n",
      " [0.]\n",
      " [0.]\n",
      " [0.]\n",
      " [0.]\n",
      " [1.]\n",
      " [0.]\n",
      " [0.]\n",
      " [0.]\n",
      " [0.]\n",
      " [0.]\n",
      " [1.]\n",
      " [1.]\n",
      " [1.]\n",
      " [0.]\n",
      " [0.]\n",
      " [0.]\n",
      " [0.]\n",
      " [0.]\n",
      " [1.]\n",
      " [0.]\n",
      " [0.]\n",
      " [1.]\n",
      " [1.]\n",
      " [0.]\n",
      " [0.]\n",
      " [0.]\n",
      " [0.]\n",
      " [0.]\n",
      " [0.]\n",
      " [0.]\n",
      " [0.]\n",
      " [1.]\n",
      " [0.]\n",
      " [1.]\n",
      " [0.]\n",
      " [0.]\n",
      " [0.]\n",
      " [0.]\n",
      " [0.]\n",
      " [0.]\n",
      " [0.]\n",
      " [0.]\n",
      " [0.]\n",
      " [0.]\n",
      " [0.]\n",
      " [0.]\n",
      " [0.]\n",
      " [0.]\n",
      " [0.]\n",
      " [0.]\n",
      " [0.]\n",
      " [0.]\n",
      " [0.]\n",
      " [0.]\n",
      " [1.]\n",
      " [0.]\n",
      " [0.]\n",
      " [0.]\n",
      " [0.]\n",
      " [0.]\n",
      " [0.]\n",
      " [0.]\n",
      " [0.]\n",
      " [0.]\n",
      " [0.]\n",
      " [0.]\n",
      " [0.]\n",
      " [0.]\n",
      " [0.]\n",
      " [0.]\n",
      " [0.]\n",
      " [1.]\n",
      " [0.]\n",
      " [0.]\n",
      " [0.]\n",
      " [0.]\n",
      " [0.]\n",
      " [0.]\n",
      " [0.]\n",
      " [0.]\n",
      " [0.]\n",
      " [0.]\n",
      " [0.]\n",
      " [0.]\n",
      " [0.]\n",
      " [0.]\n",
      " [0.]\n",
      " [0.]\n",
      " [0.]\n",
      " [0.]\n",
      " [0.]\n",
      " [0.]\n",
      " [1.]\n",
      " [0.]\n",
      " [0.]\n",
      " [1.]\n",
      " [1.]\n",
      " [1.]\n",
      " [0.]\n",
      " [0.]\n",
      " [0.]\n",
      " [0.]\n",
      " [0.]\n",
      " [0.]\n",
      " [1.]\n",
      " [0.]\n",
      " [0.]\n",
      " [0.]\n",
      " [0.]\n",
      " [0.]\n",
      " [0.]\n",
      " [0.]\n",
      " [0.]\n",
      " [0.]\n",
      " [0.]\n",
      " [0.]\n",
      " [0.]\n",
      " [0.]\n",
      " [0.]\n",
      " [0.]\n",
      " [0.]\n",
      " [0.]\n",
      " [0.]\n",
      " [0.]\n",
      " [0.]\n",
      " [0.]\n",
      " [1.]\n",
      " [0.]\n",
      " [1.]\n",
      " [0.]\n",
      " [0.]\n",
      " [0.]\n",
      " [0.]\n",
      " [1.]\n",
      " [0.]\n",
      " [0.]\n",
      " [0.]\n",
      " [0.]\n",
      " [0.]\n",
      " [0.]\n",
      " [1.]\n",
      " [1.]\n",
      " [0.]\n",
      " [0.]\n",
      " [1.]\n",
      " [0.]\n",
      " [0.]\n",
      " [0.]\n",
      " [0.]\n",
      " [0.]\n",
      " [1.]\n",
      " [1.]\n",
      " [1.]\n",
      " [0.]\n",
      " [0.]\n",
      " [0.]\n",
      " [0.]\n",
      " [0.]\n",
      " [0.]\n",
      " [0.]\n",
      " [0.]\n",
      " [0.]\n",
      " [0.]\n",
      " [0.]\n",
      " [0.]\n",
      " [0.]\n",
      " [0.]\n",
      " [0.]\n",
      " [0.]\n",
      " [0.]\n",
      " [1.]\n",
      " [0.]\n",
      " [1.]\n",
      " [0.]\n",
      " [0.]\n",
      " [0.]\n",
      " [1.]\n",
      " [0.]\n",
      " [0.]\n",
      " [1.]\n",
      " [1.]\n",
      " [0.]] \n",
      "Accuracy:  0.8264463\n"
     ]
    }
   ],
   "source": [
    "with tf.Session() as sess:\n",
    "    sess.run(tf.global_variables_initializer())\n",
    "    feed = {X : X_scaled, Y : y_scaled}\n",
    "    \n",
    "    for step in range(2001):\n",
    "        sess.run(train, feed_dict = feed)\n",
    "        if step % 200 == 0:\n",
    "            print(step, sess.run(cost, feed_dict = feed))\n",
    "    h, c, a = sess.run([hypothesis, predicted, accuracy], feed_dict = feed)\n",
    "    print(\"\\nHypotheis: \\n\", h, \"\\nCorrect (Y): \\n\", c, \"\\nAccuracy: \", a)"
   ]
  },
  {
   "cell_type": "markdown",
   "metadata": {},
   "source": [
    "# 82%의 정확도를 가지고 학습하였다."
   ]
  }
 ],
 "metadata": {
  "kernelspec": {
   "display_name": "Python 3",
   "language": "python",
   "name": "python3"
  },
  "language_info": {
   "codemirror_mode": {
    "name": "ipython",
    "version": 3
   },
   "file_extension": ".py",
   "mimetype": "text/x-python",
   "name": "python",
   "nbconvert_exporter": "python",
   "pygments_lexer": "ipython3",
   "version": "3.7.1"
  }
 },
 "nbformat": 4,
 "nbformat_minor": 2
}
